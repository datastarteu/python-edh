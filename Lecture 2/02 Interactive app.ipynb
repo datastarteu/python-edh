{
 "cells": [
  {
   "cell_type": "markdown",
   "metadata": {},
   "source": [
    "## Basic functionality"
   ]
  },
  {
   "cell_type": "code",
   "execution_count": 7,
   "metadata": {},
   "outputs": [
    {
     "data": {
      "application/vnd.jupyter.widget-view+json": {
       "model_id": "b055b33dfce6409ba022b0194e72cf25",
       "version_major": 2,
       "version_minor": 0
      },
      "text/plain": [
       "interactive(children=(Text(value='Write your text here', description='text'), Output()), _dom_classes=('widget…"
      ]
     },
     "metadata": {},
     "output_type": "display_data"
    }
   ],
   "source": [
    "from ipywidgets import interact\n",
    "\n",
    "def show(text):\n",
    "    print(text) \n",
    "\n",
    "interact(show, text = 'Write your text here' );"
   ]
  },
  {
   "cell_type": "markdown",
   "metadata": {},
   "source": [
    "### Dropdown list"
   ]
  },
  {
   "cell_type": "code",
   "execution_count": 11,
   "metadata": {},
   "outputs": [
    {
     "data": {
      "application/vnd.jupyter.widget-view+json": {
       "model_id": "83bbfb52f37244eead0361b0989f1b94",
       "version_major": 2,
       "version_minor": 0
      },
      "text/plain": [
       "interactive(children=(Dropdown(description='fruit', options=('apple', 'banana', 'mango'), value='apple'), Drop…"
      ]
     },
     "metadata": {},
     "output_type": "display_data"
    }
   ],
   "source": [
    "# Choose a fruit and tell the price\n",
    "def choose(fruit, vegetable):\n",
    "    if fruit == 'apple':\n",
    "        price = 10\n",
    "    elif fruit == 'banana':\n",
    "        price = 15\n",
    "    elif fruit == 'mango':\n",
    "        price = 70\n",
    "    return price\n",
    "\n",
    "\n",
    "interact(choose, fruit  = ['apple', 'banana', 'mango'], vegetable = ['potato', 'onion']);"
   ]
  },
  {
   "cell_type": "code",
   "execution_count": 21,
   "metadata": {},
   "outputs": [
    {
     "data": {
      "application/vnd.jupyter.widget-view+json": {
       "model_id": "dfac724579c247539e1c8680d344af48",
       "version_major": 2,
       "version_minor": 0
      },
      "text/plain": [
       "interactive(children=(Dropdown(description='fruit', options=('apple', 'banana', 'mango'), value='apple'), Drop…"
      ]
     },
     "metadata": {},
     "output_type": "display_data"
    }
   ],
   "source": [
    "# More efficient way: Using dictionaries\n",
    "fruits = {'apple':10, 'banana':15, 'mango':70}\n",
    "vegetables = {'potato':5, 'onion':10}\n",
    "\n",
    "def choose(fruit, vegetable, bag):\n",
    "    fruit_price = fruits[fruit]\n",
    "    vegetable_price = vegetables[vegetable]\n",
    "    price = fruit_price + vegetable_price\n",
    "    return price\n",
    "\n",
    "\n",
    "interact(choose, fruit  = ['apple', 'banana', 'mango'], vegetable = ['potato', 'onion'], bag = True);\n"
   ]
  },
  {
   "cell_type": "markdown",
   "metadata": {},
   "source": [
    "### Slider"
   ]
  },
  {
   "cell_type": "code",
   "execution_count": 15,
   "metadata": {},
   "outputs": [],
   "source": [
    "import numpy as np\n",
    "import matplotlib.pyplot as plt\n",
    "%matplotlib inline\n"
   ]
  },
  {
   "cell_type": "code",
   "execution_count": 22,
   "metadata": {},
   "outputs": [
    {
     "data": {
      "application/vnd.jupyter.widget-view+json": {
       "model_id": "ad8a54616d164b63baf419c12677729a",
       "version_major": 2,
       "version_minor": 0
      },
      "text/plain": [
       "interactive(children=(FloatSlider(value=0.0, description='m', max=1.0, min=-1.0), FloatSlider(value=0.0, descr…"
      ]
     },
     "metadata": {},
     "output_type": "display_data"
    }
   ],
   "source": [
    "def draw_line(m,b):\n",
    "    x = np.linspace(-10,10,1000)\n",
    "    y = m*x+b\n",
    "    plt.plot(x,y)\n",
    "    plt.xlim(-10,10)\n",
    "    plt.ylim(-10,10)\n",
    "    plt.show()\n",
    "    \n",
    "interact(draw_line, m = (-1,1,0.1), b = (-5,5,0.1) );"
   ]
  },
  {
   "cell_type": "markdown",
   "metadata": {},
   "source": [
    "## EXERCISE\n",
    "\n",
    "Make a restaurant app. This app should work as follows:\n",
    "\n",
    "- User chooses `Soup`, `Main dish`, `Desert`\n",
    "- The bill is returned\n",
    "- If `tip`, then a 10% tip is added\n",
    "    \n",
    "   "
   ]
  },
  {
   "cell_type": "markdown",
   "metadata": {},
   "source": [
    "from IPython.display import HTML\n",
    "\n",
    "HTML('''<script>\n",
    "code_show=true; \n",
    "function code_toggle() {\n",
    " if (code_show){\n",
    " $('div.input').hide();\n",
    " } else {\n",
    " $('div.input').show();\n",
    " }\n",
    " code_show = !code_show\n",
    "} \n",
    "$( document ).ready(code_toggle);\n",
    "</script>\n",
    "<form action=\"javascript:code_toggle()\"><input type=\"submit\" value=\"Click here to toggle on/off the raw code.\"></form>''')"
   ]
  },
  {
   "cell_type": "code",
   "execution_count": null,
   "metadata": {},
   "outputs": [],
   "source": []
  }
 ],
 "metadata": {
  "kernelspec": {
   "display_name": "Python 3",
   "language": "python",
   "name": "python3"
  },
  "language_info": {
   "codemirror_mode": {
    "name": "ipython",
    "version": 3
   },
   "file_extension": ".py",
   "mimetype": "text/x-python",
   "name": "python",
   "nbconvert_exporter": "python",
   "pygments_lexer": "ipython3",
   "version": "3.6.6"
  }
 },
 "nbformat": 4,
 "nbformat_minor": 2
}
