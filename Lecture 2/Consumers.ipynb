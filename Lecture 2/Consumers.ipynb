{
 "cells": [
  {
   "cell_type": "code",
   "execution_count": 45,
   "metadata": {},
   "outputs": [],
   "source": [
    "class Consumer:\n",
    "    # Constructor of the class\n",
    "    def __init__(self, w, p):\n",
    "        self.wealth = w\n",
    "        self.propensity = p\n",
    "    def earn(self, salary):\n",
    "        self.wealth += salary\n",
    "    def spend(self,amount):\n",
    "        #Check if he has money\n",
    "        if amount>self.wealth:\n",
    "            print(\"Poverty alert!!\")\n",
    "        else:\n",
    "            # If there is money, spend it with a certain proba\n",
    "            if np.random.rand() < self.propensity:\n",
    "                self.wealth -= amount"
   ]
  },
  {
   "cell_type": "code",
   "execution_count": 79,
   "metadata": {},
   "outputs": [],
   "source": [
    "# Generates initial populations\n",
    "savers = [Consumer(500, 0.1) for i in range(100)]\n",
    "shopaholics = [Consumer(500, 0.9) for i in range(100)]"
   ]
  },
  {
   "cell_type": "code",
   "execution_count": 81,
   "metadata": {},
   "outputs": [],
   "source": [
    "# GOAL: What happens with the wealth \n",
    "#of each population after some random spending"
   ]
  },
  {
   "cell_type": "code",
   "execution_count": 83,
   "metadata": {},
   "outputs": [],
   "source": [
    "savers_after_spend = [s.spend(50) for s in savers]\n",
    "savers_final_wealth = [s.wealth for s in savers]"
   ]
  },
  {
   "cell_type": "code",
   "execution_count": 85,
   "metadata": {},
   "outputs": [],
   "source": [
    "# savers_final_wealth is a list of the wealth of each individual after spebd"
   ]
  },
  {
   "cell_type": "code",
   "execution_count": 87,
   "metadata": {},
   "outputs": [
    {
     "data": {
      "image/png": "[encoded data removed]",
      "text/plain": [
       "<Figure size 432x288 with 1 Axes>"
      ]
     },
     "metadata": {
      "needs_background": "light"
     },
     "output_type": "display_data"
    }
   ],
   "source": [
    "import matplotlib.pyplot as plt\n",
    "%matplotlib inline\n",
    "plt.hist(savers_final_wealth);"
   ]
  },
  {
   "cell_type": "code",
   "execution_count": null,
   "metadata": {},
   "outputs": [],
   "source": []
  }
 ],
 "metadata": {
  "kernelspec": {
   "display_name": "Python 3",
   "language": "python",
   "name": "python3"
  },
  "language_info": {
   "codemirror_mode": {
    "name": "ipython",
    "version": 3
   },
   "file_extension": ".py",
   "mimetype": "text/x-python",
   "name": "python",
   "nbconvert_exporter": "python",
   "pygments_lexer": "ipython3",
   "version": "3.6.6"
  }
 },
 "nbformat": 4,
 "nbformat_minor": 2
}
